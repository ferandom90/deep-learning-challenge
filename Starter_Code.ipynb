{
 "cells": [
  {
   "cell_type": "markdown",
   "metadata": {},
   "source": [
    "## Preprocessing"
   ]
  },
  {
   "cell_type": "code",
   "execution_count": 1,
   "metadata": {},
   "outputs": [
    {
     "data": {
      "text/html": [
       "<div>\n",
       "<style scoped>\n",
       "    .dataframe tbody tr th:only-of-type {\n",
       "        vertical-align: middle;\n",
       "    }\n",
       "\n",
       "    .dataframe tbody tr th {\n",
       "        vertical-align: top;\n",
       "    }\n",
       "\n",
       "    .dataframe thead th {\n",
       "        text-align: right;\n",
       "    }\n",
       "</style>\n",
       "<table border=\"1\" class=\"dataframe\">\n",
       "  <thead>\n",
       "    <tr style=\"text-align: right;\">\n",
       "      <th></th>\n",
       "      <th>EIN</th>\n",
       "      <th>NAME</th>\n",
       "      <th>APPLICATION_TYPE</th>\n",
       "      <th>AFFILIATION</th>\n",
       "      <th>CLASSIFICATION</th>\n",
       "      <th>USE_CASE</th>\n",
       "      <th>ORGANIZATION</th>\n",
       "      <th>STATUS</th>\n",
       "      <th>INCOME_AMT</th>\n",
       "      <th>SPECIAL_CONSIDERATIONS</th>\n",
       "      <th>ASK_AMT</th>\n",
       "      <th>IS_SUCCESSFUL</th>\n",
       "    </tr>\n",
       "  </thead>\n",
       "  <tbody>\n",
       "    <tr>\n",
       "      <th>0</th>\n",
       "      <td>10520599</td>\n",
       "      <td>BLUE KNIGHTS MOTORCYCLE CLUB</td>\n",
       "      <td>T10</td>\n",
       "      <td>Independent</td>\n",
       "      <td>C1000</td>\n",
       "      <td>ProductDev</td>\n",
       "      <td>Association</td>\n",
       "      <td>1</td>\n",
       "      <td>0</td>\n",
       "      <td>N</td>\n",
       "      <td>5000</td>\n",
       "      <td>1</td>\n",
       "    </tr>\n",
       "    <tr>\n",
       "      <th>1</th>\n",
       "      <td>10531628</td>\n",
       "      <td>AMERICAN CHESAPEAKE CLUB CHARITABLE TR</td>\n",
       "      <td>T3</td>\n",
       "      <td>Independent</td>\n",
       "      <td>C2000</td>\n",
       "      <td>Preservation</td>\n",
       "      <td>Co-operative</td>\n",
       "      <td>1</td>\n",
       "      <td>1-9999</td>\n",
       "      <td>N</td>\n",
       "      <td>108590</td>\n",
       "      <td>1</td>\n",
       "    </tr>\n",
       "    <tr>\n",
       "      <th>2</th>\n",
       "      <td>10547893</td>\n",
       "      <td>ST CLOUD PROFESSIONAL FIREFIGHTERS</td>\n",
       "      <td>T5</td>\n",
       "      <td>CompanySponsored</td>\n",
       "      <td>C3000</td>\n",
       "      <td>ProductDev</td>\n",
       "      <td>Association</td>\n",
       "      <td>1</td>\n",
       "      <td>0</td>\n",
       "      <td>N</td>\n",
       "      <td>5000</td>\n",
       "      <td>0</td>\n",
       "    </tr>\n",
       "    <tr>\n",
       "      <th>3</th>\n",
       "      <td>10553066</td>\n",
       "      <td>SOUTHSIDE ATHLETIC ASSOCIATION</td>\n",
       "      <td>T3</td>\n",
       "      <td>CompanySponsored</td>\n",
       "      <td>C2000</td>\n",
       "      <td>Preservation</td>\n",
       "      <td>Trust</td>\n",
       "      <td>1</td>\n",
       "      <td>10000-24999</td>\n",
       "      <td>N</td>\n",
       "      <td>6692</td>\n",
       "      <td>1</td>\n",
       "    </tr>\n",
       "    <tr>\n",
       "      <th>4</th>\n",
       "      <td>10556103</td>\n",
       "      <td>GENETIC RESEARCH INSTITUTE OF THE DESERT</td>\n",
       "      <td>T3</td>\n",
       "      <td>Independent</td>\n",
       "      <td>C1000</td>\n",
       "      <td>Heathcare</td>\n",
       "      <td>Trust</td>\n",
       "      <td>1</td>\n",
       "      <td>100000-499999</td>\n",
       "      <td>N</td>\n",
       "      <td>142590</td>\n",
       "      <td>1</td>\n",
       "    </tr>\n",
       "  </tbody>\n",
       "</table>\n",
       "</div>"
      ],
      "text/plain": [
       "        EIN                                      NAME APPLICATION_TYPE   \n",
       "0  10520599              BLUE KNIGHTS MOTORCYCLE CLUB              T10  \\\n",
       "1  10531628    AMERICAN CHESAPEAKE CLUB CHARITABLE TR               T3   \n",
       "2  10547893        ST CLOUD PROFESSIONAL FIREFIGHTERS               T5   \n",
       "3  10553066            SOUTHSIDE ATHLETIC ASSOCIATION               T3   \n",
       "4  10556103  GENETIC RESEARCH INSTITUTE OF THE DESERT               T3   \n",
       "\n",
       "        AFFILIATION CLASSIFICATION      USE_CASE  ORGANIZATION  STATUS   \n",
       "0       Independent          C1000    ProductDev   Association       1  \\\n",
       "1       Independent          C2000  Preservation  Co-operative       1   \n",
       "2  CompanySponsored          C3000    ProductDev   Association       1   \n",
       "3  CompanySponsored          C2000  Preservation         Trust       1   \n",
       "4       Independent          C1000     Heathcare         Trust       1   \n",
       "\n",
       "      INCOME_AMT SPECIAL_CONSIDERATIONS  ASK_AMT  IS_SUCCESSFUL  \n",
       "0              0                      N     5000              1  \n",
       "1         1-9999                      N   108590              1  \n",
       "2              0                      N     5000              0  \n",
       "3    10000-24999                      N     6692              1  \n",
       "4  100000-499999                      N   142590              1  "
      ]
     },
     "execution_count": 1,
     "metadata": {},
     "output_type": "execute_result"
    }
   ],
   "source": [
    "# Import our dependencies\n",
    "from sklearn.model_selection import train_test_split\n",
    "from sklearn.preprocessing import StandardScaler\n",
    "import pandas as pd\n",
    "import tensorflow as tf\n",
    "\n",
    "#  Import and read the charity_data.csv.\n",
    "import pandas as pd \n",
    "application_df = pd.read_csv(\"https://static.bc-edx.com/data/dl-1-2/m21/lms/starter/charity_data.csv\")\n",
    "application_df.head()"
   ]
  },
  {
   "cell_type": "code",
   "execution_count": 2,
   "metadata": {},
   "outputs": [
    {
     "name": "stdout",
     "output_type": "stream",
     "text": [
      "      APPLICATION_TYPE       AFFILIATION CLASSIFICATION      USE_CASE   \n",
      "0                  T10       Independent          C1000    ProductDev  \\\n",
      "1                   T3       Independent          C2000  Preservation   \n",
      "2                   T5  CompanySponsored          C3000    ProductDev   \n",
      "3                   T3  CompanySponsored          C2000  Preservation   \n",
      "4                   T3       Independent          C1000     Heathcare   \n",
      "...                ...               ...            ...           ...   \n",
      "34294               T4       Independent          C1000    ProductDev   \n",
      "34295               T4  CompanySponsored          C3000    ProductDev   \n",
      "34296               T3  CompanySponsored          C2000  Preservation   \n",
      "34297               T5       Independent          C3000    ProductDev   \n",
      "34298               T3       Independent          C1000  Preservation   \n",
      "\n",
      "       ORGANIZATION  STATUS     INCOME_AMT SPECIAL_CONSIDERATIONS   ASK_AMT   \n",
      "0       Association       1              0                      N      5000  \\\n",
      "1      Co-operative       1         1-9999                      N    108590   \n",
      "2       Association       1              0                      N      5000   \n",
      "3             Trust       1    10000-24999                      N      6692   \n",
      "4             Trust       1  100000-499999                      N    142590   \n",
      "...             ...     ...            ...                    ...       ...   \n",
      "34294   Association       1              0                      N      5000   \n",
      "34295   Association       1              0                      N      5000   \n",
      "34296   Association       1              0                      N      5000   \n",
      "34297   Association       1              0                      N      5000   \n",
      "34298  Co-operative       1          1M-5M                      N  36500179   \n",
      "\n",
      "       IS_SUCCESSFUL  \n",
      "0                  1  \n",
      "1                  1  \n",
      "2                  0  \n",
      "3                  1  \n",
      "4                  1  \n",
      "...              ...  \n",
      "34294              0  \n",
      "34295              0  \n",
      "34296              0  \n",
      "34297              1  \n",
      "34298              0  \n",
      "\n",
      "[34299 rows x 10 columns]\n"
     ]
    }
   ],
   "source": [
    "# Drop the non-beneficial ID columns, 'EIN' and 'NAME'.\n",
    "#  YOUR CODE GOES HERE\n",
    "\n",
    "application_df = application_df.drop([\"EIN\",\"NAME\"],axis=1)\n",
    "print(application_df)\n"
   ]
  },
  {
   "cell_type": "code",
   "execution_count": 3,
   "metadata": {},
   "outputs": [
    {
     "name": "stdout",
     "output_type": "stream",
     "text": [
      "APPLICATION_TYPE            17\n",
      "AFFILIATION                  6\n",
      "CLASSIFICATION              71\n",
      "USE_CASE                     5\n",
      "ORGANIZATION                 4\n",
      "STATUS                       2\n",
      "INCOME_AMT                   9\n",
      "SPECIAL_CONSIDERATIONS       2\n",
      "ASK_AMT                   8747\n",
      "IS_SUCCESSFUL                2\n",
      "dtype: int64\n"
     ]
    }
   ],
   "source": [
    "# Determine the number of unique values in each column.\n",
    "#  YOUR CODE GOES HERE\n",
    "\n",
    "print(application_df.nunique())"
   ]
  },
  {
   "cell_type": "code",
   "execution_count": 5,
   "metadata": {},
   "outputs": [
    {
     "data": {
      "text/plain": [
       "'\\nExpected Output:\\n\\nAPPLICATION_TYPE            17\\nAFFILIATION                  6\\nCLASSIFICATION              71\\nUSE_CASE                     5\\nORGANIZATION                 4\\nSTATUS                       2\\nINCOME_AMT                   9\\nSPECIAL_CONSIDERATIONS       2\\nASK_AMT                   8747\\nIS_SUCCESSFUL                2\\ndtype: int64\\n\\n'"
      ]
     },
     "execution_count": 5,
     "metadata": {},
     "output_type": "execute_result"
    }
   ],
   "source": [
    "\"\"\"\n",
    "Expected Output:\n",
    "\n",
    "APPLICATION_TYPE            17\n",
    "AFFILIATION                  6\n",
    "CLASSIFICATION              71\n",
    "USE_CASE                     5\n",
    "ORGANIZATION                 4\n",
    "STATUS                       2\n",
    "INCOME_AMT                   9\n",
    "SPECIAL_CONSIDERATIONS       2\n",
    "ASK_AMT                   8747\n",
    "IS_SUCCESSFUL                2\n",
    "dtype: int64\n",
    "\n",
    "\"\"\""
   ]
  },
  {
   "cell_type": "code",
   "execution_count": 4,
   "metadata": {},
   "outputs": [
    {
     "name": "stdout",
     "output_type": "stream",
     "text": [
      "APPLICATION_TYPE\n",
      "T3     27037\n",
      "T4      1542\n",
      "T6      1216\n",
      "T5      1173\n",
      "T19     1065\n",
      "T8       737\n",
      "T7       725\n",
      "T10      528\n",
      "T9       156\n",
      "T13       66\n",
      "T12       27\n",
      "T2        16\n",
      "T25        3\n",
      "T14        3\n",
      "T29        2\n",
      "T15        2\n",
      "T17        1\n",
      "Name: count, dtype: int64\n"
     ]
    }
   ],
   "source": [
    "# Look at APPLICATION_TYPE value counts for binning\n",
    "#  YOUR CODE GOES HERE\n",
    "application_type_value_counts = application_df['APPLICATION_TYPE'].value_counts()\n",
    "print(application_type_value_counts)"
   ]
  },
  {
   "cell_type": "code",
   "execution_count": 7,
   "metadata": {},
   "outputs": [
    {
     "data": {
      "text/plain": [
       "'\\nT3     27037\\nT4      1542\\nT6      1216\\nT5      1173\\nT19     1065\\nT8       737\\nT7       725\\nT10      528\\nT9       156\\nT13       66\\nT12       27\\nT2        16\\nT14        3\\nT25        3\\nT15        2\\nT29        2\\nT17        1\\nName: APPLICATION_TYPE, dtype: int64\\n\\n'"
      ]
     },
     "execution_count": 7,
     "metadata": {},
     "output_type": "execute_result"
    }
   ],
   "source": [
    "\"\"\"\n",
    "T3     27037\n",
    "T4      1542\n",
    "T6      1216\n",
    "T5      1173\n",
    "T19     1065\n",
    "T8       737\n",
    "T7       725\n",
    "T10      528\n",
    "T9       156\n",
    "T13       66\n",
    "T12       27\n",
    "T2        16\n",
    "T14        3\n",
    "T25        3\n",
    "T15        2\n",
    "T29        2\n",
    "T17        1\n",
    "Name: APPLICATION_TYPE, dtype: int64\n",
    "\n",
    "\"\"\"\n"
   ]
  },
  {
   "cell_type": "code",
   "execution_count": 5,
   "metadata": {},
   "outputs": [
    {
     "data": {
      "text/plain": [
       "APPLICATION_TYPE\n",
       "T3       27037\n",
       "T4        1542\n",
       "T6        1216\n",
       "T5        1173\n",
       "T19       1065\n",
       "T8         737\n",
       "T7         725\n",
       "T10        528\n",
       "Other      276\n",
       "Name: count, dtype: int64"
      ]
     },
     "execution_count": 5,
     "metadata": {},
     "output_type": "execute_result"
    }
   ],
   "source": [
    "# Choose a cutoff value and create a list of application types to be replaced\n",
    "# use the variable name `application_types_to_replace`\n",
    "#  YOUR CODE GOES HERE\n",
    "\n",
    "cutoff = 160\n",
    "\n",
    "filter = application_type_value_counts[application_type_value_counts < cutoff]\n",
    "application_types_to_replace = filter.index.to_list()\n",
    "#print(application_types_to_replace)\n",
    "\n",
    "# Replace in dataframe\n",
    "for app in application_types_to_replace:\n",
    "    application_df['APPLICATION_TYPE'] = application_df['APPLICATION_TYPE'].replace(app,\"Other\")\n",
    "\n",
    "# Check to make sure binning was successful\n",
    "application_df['APPLICATION_TYPE'].value_counts()"
   ]
  },
  {
   "cell_type": "code",
   "execution_count": 9,
   "metadata": {},
   "outputs": [
    {
     "data": {
      "text/plain": [
       "'\\n\\nT3       27037\\nT4        1542\\nT6        1216\\nT5        1173\\nT19       1065\\nT8         737\\nT7         725\\nT10        528\\nOther      276\\nName: APPLICATION_TYPE, dtype: int64\\n\\n'"
      ]
     },
     "execution_count": 9,
     "metadata": {},
     "output_type": "execute_result"
    }
   ],
   "source": [
    "\"\"\"\n",
    "\n",
    "T3       27037\n",
    "T4        1542\n",
    "T6        1216\n",
    "T5        1173\n",
    "T19       1065\n",
    "T8         737\n",
    "T7         725\n",
    "T10        528\n",
    "Other      276\n",
    "Name: APPLICATION_TYPE, dtype: int64\n",
    "\n",
    "\"\"\""
   ]
  },
  {
   "cell_type": "code",
   "execution_count": 6,
   "metadata": {},
   "outputs": [
    {
     "name": "stdout",
     "output_type": "stream",
     "text": [
      "CLASSIFICATION\n",
      "C1000    17326\n",
      "C2000     6074\n",
      "C1200     4837\n",
      "C3000     1918\n",
      "C2100     1883\n",
      "         ...  \n",
      "C4120        1\n",
      "C8210        1\n",
      "C2561        1\n",
      "C4500        1\n",
      "C2150        1\n",
      "Name: count, Length: 71, dtype: int64\n"
     ]
    }
   ],
   "source": [
    "# Look at CLASSIFICATION value counts for binning\n",
    "#  YOUR CODE GOES HERE\n",
    "classification_value_counts = application_df['CLASSIFICATION'].value_counts()\n",
    "print(classification_value_counts)"
   ]
  },
  {
   "cell_type": "code",
   "execution_count": 11,
   "metadata": {},
   "outputs": [
    {
     "data": {
      "text/plain": [
       "'\\n\\nC1000    17326\\nC2000     6074\\nC1200     4837\\nC3000     1918\\nC2100     1883\\n         ...  \\nC1370        1\\nC4120        1\\nC2600        1\\nC2190        1\\nC6100        1\\nName: CLASSIFICATION, Length: 71, dtype: int64\\n\\n'"
      ]
     },
     "execution_count": 11,
     "metadata": {},
     "output_type": "execute_result"
    }
   ],
   "source": [
    "\"\"\"\n",
    "\n",
    "C1000    17326\n",
    "C2000     6074\n",
    "C1200     4837\n",
    "C3000     1918\n",
    "C2100     1883\n",
    "         ...  \n",
    "C1370        1\n",
    "C4120        1\n",
    "C2600        1\n",
    "C2190        1\n",
    "C6100        1\n",
    "Name: CLASSIFICATION, Length: 71, dtype: int64\n",
    "\n",
    "\"\"\""
   ]
  },
  {
   "cell_type": "code",
   "execution_count": 7,
   "metadata": {},
   "outputs": [
    {
     "name": "stdout",
     "output_type": "stream",
     "text": [
      "CLASSIFICATION\n",
      "C1000    17326\n",
      "C2000     6074\n",
      "C1200     4837\n",
      "C3000     1918\n",
      "C2100     1883\n",
      "C7000      777\n",
      "C1700      287\n",
      "C4000      194\n",
      "C5000      116\n",
      "C1270      114\n",
      "C2700      104\n",
      "C2800       95\n",
      "C7100       75\n",
      "C1300       58\n",
      "C1280       50\n",
      "C1230       36\n",
      "C1400       34\n",
      "C7200       32\n",
      "C2300       32\n",
      "C1240       30\n",
      "C8000       20\n",
      "C7120       18\n",
      "C1500       16\n",
      "C1800       15\n",
      "C6000       15\n",
      "C1250       14\n",
      "C8200       11\n",
      "C1238       10\n",
      "C1278       10\n",
      "C1235        9\n",
      "C1237        9\n",
      "C7210        7\n",
      "C2400        6\n",
      "C1720        6\n",
      "C4100        6\n",
      "C1257        5\n",
      "C1600        5\n",
      "C1260        3\n",
      "C2710        3\n",
      "C0           3\n",
      "C3200        2\n",
      "C1234        2\n",
      "C1246        2\n",
      "C1267        2\n",
      "C1256        2\n",
      "Name: count, dtype: int64\n"
     ]
    }
   ],
   "source": [
    "# You may find it helpful to look at CLASSIFICATION value counts >1\n",
    "#  YOUR CODE GOES HERE\n",
    "\n",
    "classification_value_counts_greather_than_1 = classification_value_counts[classification_value_counts > 1]\n",
    "print(classification_value_counts_greather_than_1)\n"
   ]
  },
  {
   "cell_type": "code",
   "execution_count": 13,
   "metadata": {},
   "outputs": [
    {
     "data": {
      "text/plain": [
       "'\\nC1000    17326\\nC2000     6074\\nC1200     4837\\nC3000     1918\\nC2100     1883\\nC7000      777\\nC1700      287\\nC4000      194\\nC5000      116\\nC1270      114\\nC2700      104\\nC2800       95\\nC7100       75\\nC1300       58\\nC1280       50\\nC1230       36\\nC1400       34\\nC7200       32\\nC2300       32\\nC1240       30\\nC8000       20\\nC7120       18\\nC1500       16\\nC1800       15\\nC6000       15\\n...\\nC1246        2\\nC1267        2\\nC3200        2\\nC1256        2\\nName: CLASSIFICATION, dtype: int64\\n'"
      ]
     },
     "execution_count": 13,
     "metadata": {},
     "output_type": "execute_result"
    }
   ],
   "source": [
    "\"\"\"\n",
    "C1000    17326\n",
    "C2000     6074\n",
    "C1200     4837\n",
    "C3000     1918\n",
    "C2100     1883\n",
    "C7000      777\n",
    "C1700      287\n",
    "C4000      194\n",
    "C5000      116\n",
    "C1270      114\n",
    "C2700      104\n",
    "C2800       95\n",
    "C7100       75\n",
    "C1300       58\n",
    "C1280       50\n",
    "C1230       36\n",
    "C1400       34\n",
    "C7200       32\n",
    "C2300       32\n",
    "C1240       30\n",
    "C8000       20\n",
    "C7120       18\n",
    "C1500       16\n",
    "C1800       15\n",
    "C6000       15\n",
    "...\n",
    "C1246        2\n",
    "C1267        2\n",
    "C3200        2\n",
    "C1256        2\n",
    "Name: CLASSIFICATION, dtype: int64\n",
    "\"\"\""
   ]
  },
  {
   "cell_type": "code",
   "execution_count": 8,
   "metadata": {},
   "outputs": [
    {
     "data": {
      "text/plain": [
       "CLASSIFICATION\n",
       "C1000    17326\n",
       "C2000     6074\n",
       "C1200     4837\n",
       "Other     2261\n",
       "C3000     1918\n",
       "C2100     1883\n",
       "Name: count, dtype: int64"
      ]
     },
     "execution_count": 8,
     "metadata": {},
     "output_type": "execute_result"
    }
   ],
   "source": [
    "# Choose a cutoff value and create a list of classifications to be replaced\n",
    "# use the variable name `classifications_to_replace`\n",
    "#  YOUR CODE GOES HERE\n",
    "\n",
    "cutoff = 1800\n",
    "\n",
    "filter = classification_value_counts[classification_value_counts < cutoff]\n",
    "\n",
    "classifications_to_replace = filter.index.to_list()\n",
    "\n",
    "# Replace in dataframe\n",
    "for cls in classifications_to_replace:\n",
    "    application_df['CLASSIFICATION'] = application_df['CLASSIFICATION'].replace(cls,\"Other\")\n",
    "    \n",
    "# Check to make sure binning was successful\n",
    "application_df['CLASSIFICATION'].value_counts()"
   ]
  },
  {
   "cell_type": "code",
   "execution_count": 15,
   "metadata": {},
   "outputs": [
    {
     "data": {
      "text/plain": [
       "'\\nC1000    17326\\nC2000     6074\\nC1200     4837\\nOther     2261\\nC3000     1918\\nC2100     1883\\nName: CLASSIFICATION, dtype: int64\\n'"
      ]
     },
     "execution_count": 15,
     "metadata": {},
     "output_type": "execute_result"
    }
   ],
   "source": [
    "\"\"\"\n",
    "C1000    17326\n",
    "C2000     6074\n",
    "C1200     4837\n",
    "Other     2261\n",
    "C3000     1918\n",
    "C2100     1883\n",
    "Name: CLASSIFICATION, dtype: int64\n",
    "\"\"\""
   ]
  },
  {
   "cell_type": "code",
   "execution_count": 9,
   "metadata": {},
   "outputs": [],
   "source": [
    "# Convert categorical data to numeric with `pd.get_dummies`\n",
    "#  YOUR CODE GOES HERE\n",
    "\n",
    "\n",
    "encoding_data = pd.get_dummies(application_df)"
   ]
  },
  {
   "cell_type": "code",
   "execution_count": 10,
   "metadata": {},
   "outputs": [],
   "source": [
    "# Split our preprocessed data into our features and target arrays\n",
    "#  YOUR CODE GOES HERE\n",
    "\n",
    "X = encoding_data.drop('IS_SUCCESSFUL', axis=1)\n",
    "y = encoding_data['IS_SUCCESSFUL']\n",
    "\n",
    "# Split the preprocessed data into a training and testing dataset\n",
    "#  YOUR CODE GOES HERE\n",
    "\n",
    "X_train, X_test, y_train, y_test = train_test_split(X, y, test_size=0.2, random_state=42)"
   ]
  },
  {
   "cell_type": "code",
   "execution_count": 11,
   "metadata": {},
   "outputs": [],
   "source": [
    "# Create a StandardScaler instances\n",
    "scaler = StandardScaler()\n",
    "\n",
    "# Fit the StandardScaler\n",
    "X_scaler = scaler.fit(X_train)\n",
    "\n",
    "# Scale the data\n",
    "X_train_scaled = X_scaler.transform(X_train)\n",
    "X_test_scaled = X_scaler.transform(X_test)"
   ]
  },
  {
   "cell_type": "markdown",
   "metadata": {},
   "source": [
    "## Compile, Train and Evaluate the Model"
   ]
  },
  {
   "cell_type": "code",
   "execution_count": 12,
   "metadata": {},
   "outputs": [
    {
     "name": "stdout",
     "output_type": "stream",
     "text": [
      "Model: \"sequential\"\n",
      "_________________________________________________________________\n",
      " Layer (type)                Output Shape              Param #   \n",
      "=================================================================\n",
      " dense (Dense)               (None, 128)               5632      \n",
      "                                                                 \n",
      " dense_1 (Dense)             (None, 64)                8256      \n",
      "                                                                 \n",
      " dense_2 (Dense)             (None, 1)                 65        \n",
      "                                                                 \n",
      "=================================================================\n",
      "Total params: 13953 (54.50 KB)\n",
      "Trainable params: 13953 (54.50 KB)\n",
      "Non-trainable params: 0 (0.00 Byte)\n",
      "_________________________________________________________________\n"
     ]
    }
   ],
   "source": [
    "# Define the model - deep neural net, i.e., the number of input features and hidden nodes for each layer.\n",
    "#  YOUR CODE GOES HERE\n",
    "\n",
    "#define the model\n",
    "nn = tf.keras.models.Sequential()\n",
    "# define the number of input features\n",
    "input_features = len(X_train_scaled[0])\n",
    "# define the layer\n",
    "\n",
    "\n",
    "# First hidden layer\n",
    "#  YOUR CODE GOES HERE\n",
    "\n",
    "nn.add(tf.keras.layers.Dense(units=128, input_dim=input_features, activation='relu'))\n",
    "\n",
    "# Second hidden layer\n",
    "#  YOUR CODE GOES HERE\n",
    "\n",
    "\n",
    "nn.add(tf.keras.layers.Dense(units=64, input_dim=input_features, activation='relu'))\n",
    "\n",
    "# Output layer\n",
    "#  YOUR CODE GOES HERE\n",
    "\n",
    "nn.add(tf.keras.layers.Dense(units=1, activation='sigmoid'))\n",
    "\n",
    "# Check the structure of the model\n",
    "nn.summary()"
   ]
  },
  {
   "cell_type": "code",
   "execution_count": 20,
   "metadata": {},
   "outputs": [
    {
     "data": {
      "text/plain": [
       "'\\nWARNING:tensorflow:From Z:\\\\Travis\\x07naconda3\\\\lib\\\\site-packages\\tensorflow\\\\python\\\\ops\\\\init_ops.py:1251: calling VarianceScaling.__init__ (from tensorflow.python.ops.init_ops) with dtype is deprecated and will be removed in a future version.\\nInstructions for updating:\\nCall initializer instance with the dtype argument instead of passing it to the constructor\\nModel: \"sequential\"\\n_________________________________________________________________\\nLayer (type)                 Output Shape              Param #   \\n=================================================================\\ndense (Dense)                (None, 80)                3520      \\n_________________________________________________________________\\ndense_1 (Dense)              (None, 30)                2430      \\n_________________________________________________________________\\ndense_2 (Dense)              (None, 1)                 31        \\n=================================================================\\nTotal params: 5,981\\nTrainable params: 5,981\\nNon-trainable params: 0\\n'"
      ]
     },
     "execution_count": 20,
     "metadata": {},
     "output_type": "execute_result"
    }
   ],
   "source": [
    "\n",
    "\"\"\"\n",
    "WARNING:tensorflow:From Z:\\Travis\\anaconda3\\lib\\site-packages\\tensorflow\\python\\ops\\init_ops.py:1251: calling VarianceScaling.__init__ (from tensorflow.python.ops.init_ops) with dtype is deprecated and will be removed in a future version.\n",
    "Instructions for updating:\n",
    "Call initializer instance with the dtype argument instead of passing it to the constructor\n",
    "Model: \"sequential\"\n",
    "_________________________________________________________________\n",
    "Layer (type)                 Output Shape              Param #   \n",
    "=================================================================\n",
    "dense (Dense)                (None, 80)                3520      \n",
    "_________________________________________________________________\n",
    "dense_1 (Dense)              (None, 30)                2430      \n",
    "_________________________________________________________________\n",
    "dense_2 (Dense)              (None, 1)                 31        \n",
    "=================================================================\n",
    "Total params: 5,981\n",
    "Trainable params: 5,981\n",
    "Non-trainable params: 0\n",
    "\"\"\""
   ]
  },
  {
   "cell_type": "code",
   "execution_count": 13,
   "metadata": {},
   "outputs": [],
   "source": [
    "# Compile the model\n",
    "#  YOUR CODE GOES HERE\n",
    "\n",
    "nn.compile(loss='binary_crossentropy', optimizer='adam', metrics=['accuracy'])"
   ]
  },
  {
   "cell_type": "code",
   "execution_count": 14,
   "metadata": {},
   "outputs": [
    {
     "name": "stdout",
     "output_type": "stream",
     "text": [
      "WARNING:tensorflow:`period` argument is deprecated. Please use `save_freq` to specify the frequency in number of batches seen.\n",
      "Epoch 1/5\n",
      "858/858 [==============================] - 8s 6ms/step - loss: 0.5691 - accuracy: 0.7216 - val_loss: 0.5671 - val_accuracy: 0.7188\n",
      "Epoch 2/5\n",
      "858/858 [==============================] - 5s 6ms/step - loss: 0.5540 - accuracy: 0.7288 - val_loss: 0.5645 - val_accuracy: 0.7201\n",
      "Epoch 3/5\n",
      "858/858 [==============================] - 5s 5ms/step - loss: 0.5518 - accuracy: 0.7295 - val_loss: 0.5586 - val_accuracy: 0.7271\n",
      "Epoch 4/5\n",
      "858/858 [==============================] - 5s 6ms/step - loss: 0.5493 - accuracy: 0.7324 - val_loss: 0.5591 - val_accuracy: 0.7227\n",
      "Epoch 5/5\n",
      "856/858 [============================>.] - ETA: 0s - loss: 0.5479 - accuracy: 0.7320\n",
      "Epoch 5: val_loss improved from inf to 0.55840, saving model to model_checkpoint.h5\n",
      "858/858 [==============================] - 5s 6ms/step - loss: 0.5479 - accuracy: 0.7320 - val_loss: 0.5584 - val_accuracy: 0.7227\n"
     ]
    }
   ],
   "source": [
    "# Train the model\n",
    "#  YOUR CODE GOES HERE\n",
    "\n",
    "callbacks = [\n",
    "    tf.keras.callbacks.ModelCheckpoint(\n",
    "        filepath='model_checkpoint.h5',  # Save model weights every five epochs\n",
    "        save_weights_only=True,\n",
    "        save_best_only=True,\n",
    "        period=5,  # Save weights every five epochs\n",
    "        verbose=1\n",
    "    )\n",
    "]\n",
    "\n",
    "\n",
    "# Train the model\n",
    "history = nn.fit(X_train_scaled, y_train,epochs=5, callbacks=callbacks, validation_data=(X_test_scaled, y_test))\n",
    "\n"
   ]
  },
  {
   "cell_type": "code",
   "execution_count": 23,
   "metadata": {},
   "outputs": [
    {
     "data": {
      "text/plain": [
       "'\\nEpoch 1/100\\n25724/25724 [==============================] - 2s 80us/sample - loss: 0.5700 - acc: 0.7234\\nEpoch 2/100\\n25724/25724 [==============================] - 1s 44us/sample - loss: 0.5556 - acc: 0.7294\\nEpoch 3/100\\n25724/25724 [==============================] - 1s 43us/sample - loss: 0.5529 - acc: 0.7304\\nEpoch 4/100\\n25724/25724 [==============================] - 1s 49us/sample - loss: 0.5514 - acc: 0.7318\\nEpoch 5/100\\n25724/25724 [==============================] - 1s 48us/sample - loss: 0.5495 - acc: 0.7322\\nEpoch 6/100\\n25724/25724 [==============================] - 1s 46us/sample - loss: 0.5488 - acc: 0.7330\\nEpoch 7/100\\n25724/25724 [==============================] - 1s 47us/sample - loss: 0.5482 - acc: 0.7335\\nEpoch 8/100\\n25724/25724 [==============================] - 1s 44us/sample - loss: 0.5475 - acc: 0.7326\\nEpoch 9/100\\n25724/25724 [==============================] - 1s 48us/sample - loss: 0.5468 - acc: 0.73491s - lo\\nEpoch 10/100\\n25724/25724 [==============================] - 1s 49us/sample - loss: 0.5465 - acc: 0.7350\\nEpoch 11/100\\n25724/25724 [==============================] - 1s 47us/sample - loss: 0.5459 - acc: 0.7345\\nEpoch 12/100\\n25724/25724 [==============================] - 1s 45us/sample - loss: 0.5456 - acc: 0.7362\\nEpoch 13/100\\n...\\nEpoch 99/100\\n25724/25724 [==============================] - 2s 80us/sample - loss: 0.5360 - acc: 0.7396\\nEpoch 100/100\\n25724/25724 [==============================] - 2s 64us/sample - loss: 0.5360 - acc: 0.7416\\n\\n'"
      ]
     },
     "execution_count": 23,
     "metadata": {},
     "output_type": "execute_result"
    }
   ],
   "source": [
    "\"\"\"\n",
    "Epoch 1/100\n",
    "25724/25724 [==============================] - 2s 80us/sample - loss: 0.5700 - acc: 0.7234\n",
    "Epoch 2/100\n",
    "25724/25724 [==============================] - 1s 44us/sample - loss: 0.5556 - acc: 0.7294\n",
    "Epoch 3/100\n",
    "25724/25724 [==============================] - 1s 43us/sample - loss: 0.5529 - acc: 0.7304\n",
    "Epoch 4/100\n",
    "25724/25724 [==============================] - 1s 49us/sample - loss: 0.5514 - acc: 0.7318\n",
    "Epoch 5/100\n",
    "25724/25724 [==============================] - 1s 48us/sample - loss: 0.5495 - acc: 0.7322\n",
    "Epoch 6/100\n",
    "25724/25724 [==============================] - 1s 46us/sample - loss: 0.5488 - acc: 0.7330\n",
    "Epoch 7/100\n",
    "25724/25724 [==============================] - 1s 47us/sample - loss: 0.5482 - acc: 0.7335\n",
    "Epoch 8/100\n",
    "25724/25724 [==============================] - 1s 44us/sample - loss: 0.5475 - acc: 0.7326\n",
    "Epoch 9/100\n",
    "25724/25724 [==============================] - 1s 48us/sample - loss: 0.5468 - acc: 0.73491s - lo\n",
    "Epoch 10/100\n",
    "25724/25724 [==============================] - 1s 49us/sample - loss: 0.5465 - acc: 0.7350\n",
    "Epoch 11/100\n",
    "25724/25724 [==============================] - 1s 47us/sample - loss: 0.5459 - acc: 0.7345\n",
    "Epoch 12/100\n",
    "25724/25724 [==============================] - 1s 45us/sample - loss: 0.5456 - acc: 0.7362\n",
    "Epoch 13/100\n",
    "...\n",
    "Epoch 99/100\n",
    "25724/25724 [==============================] - 2s 80us/sample - loss: 0.5360 - acc: 0.7396\n",
    "Epoch 100/100\n",
    "25724/25724 [==============================] - 2s 64us/sample - loss: 0.5360 - acc: 0.7416\n",
    "\n",
    "\"\"\""
   ]
  },
  {
   "cell_type": "code",
   "execution_count": 15,
   "metadata": {},
   "outputs": [
    {
     "name": "stdout",
     "output_type": "stream",
     "text": [
      "215/215 - 1s - loss: 0.5584 - accuracy: 0.7227 - 939ms/epoch - 4ms/step\n",
      "Loss: 0.5584036707878113, Accuracy: 0.7227405309677124\n"
     ]
    }
   ],
   "source": [
    "# Evaluate the model using the test data\n",
    "model_loss, model_accuracy = nn.evaluate(X_test_scaled,y_test,verbose=2)\n",
    "print(f\"Loss: {model_loss}, Accuracy: {model_accuracy}\")"
   ]
  },
  {
   "cell_type": "code",
   "execution_count": 25,
   "metadata": {},
   "outputs": [
    {
     "data": {
      "text/plain": [
       "'\\n8575/8575 - 0s - loss: 0.5578 - acc: 0.7263\\nLoss: 0.557812534073699, Accuracy: 0.7262973785400391\\n'"
      ]
     },
     "execution_count": 25,
     "metadata": {},
     "output_type": "execute_result"
    }
   ],
   "source": [
    "\"\"\"\n",
    "8575/8575 - 0s - loss: 0.5578 - acc: 0.7263\n",
    "Loss: 0.557812534073699, Accuracy: 0.7262973785400391\n",
    "\"\"\""
   ]
  },
  {
   "cell_type": "code",
   "execution_count": 16,
   "metadata": {},
   "outputs": [
    {
     "name": "stderr",
     "output_type": "stream",
     "text": [
      "c:\\Users\\Guest Mode\\AppData\\Local\\Programs\\Python\\Python39\\lib\\site-packages\\keras\\src\\engine\\training.py:3000: UserWarning: You are saving your model as an HDF5 file via `model.save()`. This file format is considered legacy. We recommend using instead the native Keras format, e.g. `model.save('my_model.keras')`.\n",
      "  saving_api.save_model(\n"
     ]
    }
   ],
   "source": [
    "# Export our model to HDF5 file\n",
    "#  YOUR CODE GOES HERE\n",
    "\n",
    "nn.save(\"AlphabetSoupCharity.h5\")"
   ]
  }
 ],
 "metadata": {
  "kernelspec": {
   "display_name": "Python 3",
   "language": "python",
   "name": "python3"
  },
  "language_info": {
   "codemirror_mode": {
    "name": "ipython",
    "version": 3
   },
   "file_extension": ".py",
   "mimetype": "text/x-python",
   "name": "python",
   "nbconvert_exporter": "python",
   "pygments_lexer": "ipython3",
   "version": "3.9.13"
  },
  "vscode": {
   "interpreter": {
    "hash": "31f2aee4e71d21fbe5cf8b01ff0e069b9275f58929596ceb00d14d90e3e16cd6"
   }
  }
 },
 "nbformat": 4,
 "nbformat_minor": 4
}
